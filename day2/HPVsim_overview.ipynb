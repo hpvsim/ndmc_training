{
 "cells": [
  {
   "cell_type": "markdown",
   "id": "4fd7e2e3",
   "metadata": {},
   "source": [
    "# HPVsim demonstration\n",
    "In this tutorial we will walk through how to set up a simulation, define some parameters, and compare different simulations. Then we will learn how to use analyzers to extract more information than is provided by default.\n",
    "\n",
    "Let's start by just running a super simple simulation:"
   ]
  },
  {
   "cell_type": "code",
   "execution_count": null,
   "id": "4e0df8c2",
   "metadata": {},
   "outputs": [],
   "source": [
    "# take care of imports\n",
    "import sciris as sc\n",
    "import numpy as np\n",
    "import pylab as pl\n",
    "import hpvsim as hpv"
   ]
  },
  {
   "cell_type": "code",
   "execution_count": null,
   "id": "5cff63c0",
   "metadata": {},
   "outputs": [],
   "source": [
    "sim = hpv.Sim()\n",
    "sim.run()\n",
    "fig = sim.plot()"
   ]
  },
  {
   "cell_type": "markdown",
   "id": "c26722af",
   "metadata": {},
   "source": [
    "Now let's change the default parameters. I am going to increase the number of agents, specify start and end dates, genotypes, and location."
   ]
  },
  {
   "cell_type": "code",
   "execution_count": null,
   "id": "7cca0913",
   "metadata": {},
   "outputs": [],
   "source": [
    "base_pars = dict(\n",
    "    n_agents=10e3,\n",
    "    start=1980,\n",
    "    end=2020,\n",
    "    genotypes=[16, 18, 'hi5', 'ohr'],\n",
    "    location='india',\n",
    "    verbose=0.0\n",
    ")\n",
    "sim = hpv.Sim(pars=base_pars)\n",
    "sim.run()\n",
    "sim.plot()"
   ]
  },
  {
   "cell_type": "markdown",
   "id": "7f889eea",
   "metadata": {},
   "source": [
    "Now let's investigate/test some of the assumptions of this model. "
   ]
  },
  {
   "cell_type": "code",
   "execution_count": null,
   "id": "1e43efde",
   "metadata": {},
   "outputs": [],
   "source": [
    "print(sim.pars['debut'])"
   ]
  },
  {
   "cell_type": "code",
   "execution_count": null,
   "id": "154f926b",
   "metadata": {},
   "outputs": [],
   "source": [
    "    scenarios = {\n",
    "        'sexual_debut_15': {\n",
    "            'name':'Sexual debut age 15',\n",
    "            'pars': {\n",
    "                \n",
    "            }\n",
    "        },\n",
    "        'sexual_debut_17': {\n",
    "            'name':'Sexual debut age 17',\n",
    "            'pars': {\n",
    "                'debut': dict(f=dict(dist='lognormal', par1=17, par2=2.),\n",
    "                  m=dict(dist='lognormal', par1=17.6, par2=2.)),\n",
    "\n",
    "            }\n",
    "        },\n",
    "        'sexual_debut_19': {\n",
    "            'name':'Sexual debut age 19',\n",
    "            'pars': {\n",
    "                'debut': dict(f=dict(dist='lognormal', par1=19, par2=2.),\n",
    "                  m=dict(dist='lognormal', par1=17.6, par2=2.)),\n",
    "\n",
    "            }\n",
    "        },\n",
    "    }\n",
    "    \n",
    "    base_sim = hpv.Sim(pars=base_pars)\n",
    "    metapars = {'n_runs': 3}\n",
    "    scens = hpv.Scenarios(sim=base_sim, metapars=metapars, scenarios=scenarios)\n",
    "    scens.run()\n",
    "\n",
    "    print('Done running scenarios')\n",
    "    "
   ]
  },
  {
   "cell_type": "code",
   "execution_count": null,
   "id": "5ec637d6",
   "metadata": {},
   "outputs": [],
   "source": [
    "to_plot = {\n",
    "     'HPV incidence': ['hpv_incidence'],   \n",
    "     'Age standardized cancer incidence (per 100,000 women)': ['asr_cancer_incidence'],\n",
    "    'Cancer deaths per 100,000 women': ['cancer_mortality'],\n",
    " }\n",
    "scens.plot(to_plot=to_plot)"
   ]
  },
  {
   "cell_type": "markdown",
   "id": "41e385d5",
   "metadata": {},
   "source": [
    "Now, let's set up an *analyzer* to give us more information than is provided by default on the sexual network. HPVsim has several default analyzers you can use, or you can define a custom analyzer. Snapshots records and returns a copy of the people object on specified timepoints. This will work fine for our purposes!"
   ]
  },
  {
   "cell_type": "code",
   "execution_count": null,
   "id": "ff47f8bb",
   "metadata": {},
   "outputs": [],
   "source": [
    "# First define analyzer\n",
    "snap = hpv.snapshot(\n",
    "    timepoints=['2020']\n",
    ")\n",
    "\n",
    "# Pass analyzer to the sim and re-run\n",
    "sim = hpv.Sim(pars=base_pars, analyzers=[snap])\n",
    "sim.run()"
   ]
  },
  {
   "cell_type": "code",
   "execution_count": null,
   "id": "6b6b9857",
   "metadata": {},
   "outputs": [],
   "source": [
    "# We are going to want to re-use this code, so let's turn it into a function\n",
    "\n",
    "def plot_rship_counts(sim):\n",
    "    # Create figure\n",
    "    fig, axes = pl.subplots(ncols=3, figsize=(14, 10), sharey='col')\n",
    "\n",
    "    # Extract the people snapshot\n",
    "    people = sim.get_analyzer().snapshots[0]\n",
    "\n",
    "    # Determine relationship types\n",
    "    pship_types = sim.pars['layer_probs'].keys()\n",
    "    n_pship_types = len(pship_types)\n",
    "\n",
    "    # Keep track of number of relationships among those active\n",
    "    rships = np.zeros((n_pship_types, len(people.age_bin_edges)))\n",
    "    for lk, lkey in enumerate(pship_types):\n",
    "        active_ages = people.age[(people.n_rships[lk,:] >= 1)]\n",
    "        n_rships_active = people.n_rships[:,(people.n_rships[lk,:] >= 1)]\n",
    "        age_bins_active = np.digitize(active_ages, bins=people.age_bin_edges) - 1\n",
    "\n",
    "        all_ages = people.age\n",
    "        n_rships_all = people.n_rships\n",
    "        age_bins_all = np.digitize(all_ages, bins=people.age_bin_edges) - 1\n",
    "\n",
    "        for ab in np.unique(age_bins_active):\n",
    "            inds = age_bins_active==ab\n",
    "            rships[lk,ab] = n_rships_active[lk,inds].sum()/len(hpv.true(inds))\n",
    "\n",
    "        ax = axes[lk]\n",
    "        yy = rships[lk,:]\n",
    "        ax.bar(people.age_bin_edges, yy, width=3)\n",
    "        ax.set_xlabel(f'Age')\n",
    "        ax.set_title(f'Number of relationships, {lkey}')\n",
    "        \n",
    "    fig.tight_layout()\n",
    "    pl.show()\n",
    "\n",
    "# Now let's plot it\n",
    "plot_rship_counts(sim)"
   ]
  },
  {
   "cell_type": "markdown",
   "id": "272e5c55",
   "metadata": {},
   "source": [
    "Ok this looks like too many marriages, what can we do to fix it?\n",
    "1. Increase the duration of marriages, so fewer dissolve and search for next partner\n",
    "2. Decrease participation rates\n",
    "\n",
    "Let's try both and see"
   ]
  },
  {
   "cell_type": "code",
   "execution_count": null,
   "id": "a4acd00c",
   "metadata": {},
   "outputs": [],
   "source": [
    "# First let's see what the default duration of partnership is set to\n",
    "dur_pship = sim.pars['dur_pship']\n",
    "print(dur_pship)"
   ]
  },
  {
   "cell_type": "code",
   "execution_count": null,
   "id": "8303b7a3",
   "metadata": {},
   "outputs": [],
   "source": [
    "longer_dur = sc.dcp(dur_pship)\n",
    "longer_dur['m']['par1'] = 20\n",
    "print(longer_dur)"
   ]
  },
  {
   "cell_type": "code",
   "execution_count": null,
   "id": "9f9b0cd8",
   "metadata": {},
   "outputs": [],
   "source": [
    "pars_longer_dur = sc.mergedicts(base_pars, {'dur_pship': longer_dur})\n",
    "print(pars_longer_dur)"
   ]
  },
  {
   "cell_type": "code",
   "execution_count": null,
   "id": "06e79cae",
   "metadata": {},
   "outputs": [],
   "source": [
    "# Now let's re-run simulation and check relationships\n",
    "\n",
    "sim_longer_dur = hpv.Sim(pars=pars_longer_dur, analyzers=[snap])\n",
    "sim_longer_dur.run()\n",
    "\n",
    "plot_rship_counts(sim_longer_dur)"
   ]
  },
  {
   "cell_type": "markdown",
   "id": "116b3f79",
   "metadata": {},
   "source": [
    "Ok this looks better, but let's try reduing participation at older ages too."
   ]
  },
  {
   "cell_type": "code",
   "execution_count": null,
   "id": "a9a1614a",
   "metadata": {},
   "outputs": [],
   "source": [
    "# Let's see what the default participation rate is set to\n",
    "# Extract the female participation rate among marital relationships\n",
    "participation_rate = sc.dcp(sim.pars['layer_probs'])\n",
    "print(participation_rate['m'][1,])"
   ]
  },
  {
   "cell_type": "code",
   "execution_count": null,
   "id": "c0393c68",
   "metadata": {},
   "outputs": [],
   "source": [
    "# Let's try reducing the rate of participation 5-fold\n",
    "\n",
    "participation_rate['m'][1,] /= 5\n",
    "print(participation_rate['m'][1,])"
   ]
  },
  {
   "cell_type": "code",
   "execution_count": null,
   "id": "b0a204d5",
   "metadata": {},
   "outputs": [],
   "source": [
    "pars_lower_participation = sc.mergedicts(pars_longer_dur, {'layer_probs': participation_rate})\n",
    "print(pars_lower_participation)"
   ]
  },
  {
   "cell_type": "code",
   "execution_count": null,
   "id": "4fe5ccb6",
   "metadata": {},
   "outputs": [],
   "source": [
    "# Now let's re-run simulation and check relationships\n",
    "\n",
    "sim_lower_participation = hpv.Sim(pars=pars_lower_participation, analyzers=[snap])\n",
    "sim_lower_participation.run()\n",
    "\n",
    "plot_rship_counts(sim_lower_participation)"
   ]
  },
  {
   "cell_type": "code",
   "execution_count": null,
   "id": "b46c57b4",
   "metadata": {},
   "outputs": [],
   "source": []
  }
 ],
 "metadata": {
  "kernelspec": {
   "display_name": "Python 3 (ipykernel)",
   "language": "python",
   "name": "python3"
  },
  "language_info": {
   "codemirror_mode": {
    "name": "ipython",
    "version": 3
   },
   "file_extension": ".py",
   "mimetype": "text/x-python",
   "name": "python",
   "nbconvert_exporter": "python",
   "pygments_lexer": "ipython3",
   "version": "3.9.16"
  }
 },
 "nbformat": 4,
 "nbformat_minor": 5
}
