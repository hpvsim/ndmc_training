{
 "cells": [
  {
   "cell_type": "markdown",
   "id": "c7a7eb54",
   "metadata": {},
   "source": [
    "# HPVsim interventions demonstration\n",
    "\n",
    "In this tutorial we will walk through how to set up a simulation, define some parameters, and compare different interventions. This will rely upon *interventions*, which are a standard class and can be easily customized by users."
   ]
  },
  {
   "cell_type": "markdown",
   "id": "ab0312a4",
   "metadata": {},
   "source": [
    "Let's start by defining base parameters for a simulation:"
   ]
  },
  {
   "cell_type": "code",
   "execution_count": null,
   "id": "cbcbc7a9",
   "metadata": {
    "scrolled": true
   },
   "outputs": [],
   "source": [
    "import hpvsim as hpv\n",
    "\n",
    "base_pars = dict(\n",
    "    n_agents=10e3,\n",
    "    start=1950,\n",
    "    end=2060,\n",
    "    genotypes=[16, 18, 'hi5', 'ohr'],\n",
    "    location='india',\n",
    "    verbose=0.0\n",
    ")\n"
   ]
  },
  {
   "cell_type": "markdown",
   "id": "11898db1",
   "metadata": {},
   "source": [
    "## Define interventions to simulate"
   ]
  },
  {
   "cell_type": "code",
   "execution_count": null,
   "id": "b1fb6169",
   "metadata": {},
   "outputs": [],
   "source": [
    "    ### Create interventions\n",
    "    routine_vx_dose1 = hpv.routine_vx(\n",
    "        prob = 0.9,\n",
    "        start_year = 2023,\n",
    "        age_range = [9,10],\n",
    "        product = 'bivalent',\n",
    "        label = 'Bivalent dose 1'\n",
    "    )\n",
    "\n",
    "    second_dose_eligible = lambda sim: (sim.people.doses == 1) & (sim.t > (sim.people.date_vaccinated + 0.5 / sim['dt']))\n",
    "    routine_vx_dose2 = hpv.routine_vx(\n",
    "        prob = 0.9,\n",
    "        start_year = 2023,\n",
    "        product = 'bivalent2',\n",
    "        eligibility=second_dose_eligible,\n",
    "        label = 'Bivalent dose 2'\n",
    "    )\n",
    "    \n",
    "    catchup_campaign_vx = hpv.campaign_vx(\n",
    "        prob=0.9,\n",
    "        years=2023,\n",
    "        product='bivalent',\n",
    "        age_range=(9, 24),\n",
    "        label='Catch-up campaign'\n",
    "    )\n",
    "    \n",
    "    routine_vx = [routine_vx_dose1, routine_vx_dose2]\n",
    "    catchup_vx = [catchup_campaign_vx]\n",
    "    "
   ]
  },
  {
   "cell_type": "code",
   "execution_count": null,
   "id": "719e4d1a",
   "metadata": {},
   "outputs": [],
   "source": [
    "    scenarios = {\n",
    "        'baseline': {\n",
    "            'name':'No interventions',\n",
    "            'pars': {\n",
    "                \n",
    "            }\n",
    "        },\n",
    "        'vx_scaleup': {\n",
    "            'name':'Vaccinate 90% of 9yo',\n",
    "            'pars': {\n",
    "                'interventions': routine_vx\n",
    "            }\n",
    "        },\n",
    "        'vx_scaleup_MAC': {\n",
    "            'name':'Vaccinate 90% of 9-24yo',\n",
    "            'pars': {\n",
    "                'interventions': routine_vx + catchup_vx\n",
    "            }\n",
    "        },\n",
    "    }\n",
    "    \n",
    "    base_sim = hpv.Sim(pars=base_pars)\n",
    "    metapars = {'n_runs': 3}\n",
    "    scens = hpv.Scenarios(sim=base_sim, metapars=metapars, scenarios=scenarios)\n",
    "    scens.run()\n",
    "\n",
    "    print('Done running scenarios')\n",
    "    "
   ]
  },
  {
   "cell_type": "markdown",
   "id": "7e8bcca4",
   "metadata": {},
   "source": [
    "## Plotting\n",
    "Now let's plot some basic information to see what we just ran."
   ]
  },
  {
   "cell_type": "code",
   "execution_count": null,
   "id": "eb881ea2",
   "metadata": {},
   "outputs": [],
   "source": [
    "    to_plot = {\n",
    "        'Age standardized cancer incidence (per 100,000 women)': ['asr_cancer_incidence'],\n",
    "        'Cancer deaths per 100,000 women': ['cancer_mortality'],\n",
    "    }\n",
    "    scens.plot(to_plot=to_plot)"
   ]
  },
  {
   "cell_type": "code",
   "execution_count": null,
   "id": "6d88ace3",
   "metadata": {},
   "outputs": [],
   "source": [
    "    # Define a nonvalent vaccine\n",
    "    nonavalent_vx_dose1 = hpv.routine_vx(\n",
    "        prob = 0.9,\n",
    "        start_year = 2023,\n",
    "        age_range = [9,10],\n",
    "        product = 'nonvalent',\n",
    "        label = 'Nonavalent dose 1'\n",
    "    )\n",
    "    \n",
    "    # Define a gender-neutral vaccine strategy\n",
    "    gender_neutral_vx_dose1 = hpv.routine_vx(\n",
    "        prob = 0.9,\n",
    "        start_year = 2023,\n",
    "        age_range = [9,10],\n",
    "        sex = [0,1],\n",
    "        product = 'bivalent',\n",
    "        label = 'Bivalent dose 1'\n",
    "    )"
   ]
  }
 ],
 "metadata": {
  "kernelspec": {
   "display_name": "Python 3 (ipykernel)",
   "language": "python",
   "name": "python3"
  },
  "language_info": {
   "codemirror_mode": {
    "name": "ipython",
    "version": 3
   },
   "file_extension": ".py",
   "mimetype": "text/x-python",
   "name": "python",
   "nbconvert_exporter": "python",
   "pygments_lexer": "ipython3",
   "version": "3.11.3"
  }
 },
 "nbformat": 4,
 "nbformat_minor": 5
}
